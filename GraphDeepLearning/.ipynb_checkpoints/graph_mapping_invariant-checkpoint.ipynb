{
 "cells": [
  {
   "cell_type": "code",
   "execution_count": null,
   "id": "e35ca7e9",
   "metadata": {},
   "outputs": [],
   "source": [
    "import numpy as np\n",
    "import pennylane as qml"
   ]
  },
  {
   "cell_type": "code",
   "execution_count": null,
   "id": "0abccd34",
   "metadata": {},
   "outputs": [],
   "source": [
    "def permute(A, permutation):\n",
    "    \n",
    "    P = np.zeros((len(A), len(A)))\n",
    "    for i,j in enumerate(permutation):\n",
    "        P[i,j] = 1\n",
    "\n",
    "    return P @ A @ np.transpose(P)\n",
    "\n",
    "\n",
    "\n",
    "def perm_equivariant_embedding(A, betas, gammas):\n",
    "\n",
    "    n_nodes = len(A)\n",
    "    n_layers = len(betas)\n",
    "    \n",
    "    # initialise in the plus state\n",
    "    for i in range(n_nodes):\n",
    "        qml.Hadamard(i)\n",
    "    \n",
    "    for l in range(n_layers):\n",
    "\n",
    "        for i in range(n_nodes):\n",
    "            for j in range(i):\n",
    "                # factor of 2 due to definition of gate\n",
    "                qml.IsingZZ(2*gammas[l]*A[i,j], wires=[i,j]) \n",
    "\n",
    "        for i in range(n_nodes):\n",
    "            qml.RX(A[i,i]*betas[l], wires=i)"
   ]
  },
  {
   "cell_type": "code",
   "execution_count": null,
   "id": "01aeaa49",
   "metadata": {},
   "outputs": [],
   "source": [
    "n_qubits = 5\n",
    "n_layers = 2\n",
    "\n",
    "dev = qml.device(\"lightning.qubit\", wires=n_qubits)\n",
    "\n",
    "@qml.qnode(dev)\n",
    "def eqc(adjacency_matrix, observable, trainable_betas, trainable_gammas):\n",
    "    \"\"\"Circuit that uses the permutation equivariant embedding\"\"\"\n",
    "    \n",
    "    perm_equivariant_embedding(adjacency_matrix, trainable_betas, trainable_gammas)\n",
    "    return qml.expval(observable)\n",
    "\n",
    "\n",
    "A = create_data_point(n_qubits)\n",
    "betas = rng.random(n_layers)\n",
    "gammas = rng.random(n_layers)\n",
    "observable = qml.PauliX(0) @ qml.PauliX(1) @ qml.PauliX(3)\n",
    "\n",
    "qml.draw_mpl(eqc, decimals=2)(A, observable, betas, gammas)\n",
    "plt.show()"
   ]
  },
  {
   "cell_type": "code",
   "execution_count": null,
   "id": "2f7f7603",
   "metadata": {},
   "outputs": [],
   "source": [
    "result_A = eqc(A, observable, betas, gammas)\n",
    "print(\"Model output for A:\", result_A)\n",
    "\n",
    "perm = [2, 3, 0, 1, 4]\n",
    "A_perm = permute(A, perm)\n",
    "result_Aperm = eqc(A_perm, observable, betas, gammas)\n",
    "print(\"Model output for permutation of A: \", result_Aperm)\n",
    "\n",
    "observable_perm = qml.PauliX(perm[0]) @ qml.PauliX(perm[1]) @ qml.PauliX(perm[3])\n",
    "\n",
    "result_Aperm = eqc(A_perm, observable_perm, betas, gammas)\n",
    "print(\"Model output for permutation of A, and with permuted observable: \", result_Aperm)"
   ]
  }
 ],
 "metadata": {
  "kernelspec": {
   "display_name": "Python 3 (ipykernel)",
   "language": "python",
   "name": "python3"
  },
  "language_info": {
   "codemirror_mode": {
    "name": "ipython",
    "version": 3
   },
   "file_extension": ".py",
   "mimetype": "text/x-python",
   "name": "python",
   "nbconvert_exporter": "python",
   "pygments_lexer": "ipython3",
   "version": "3.10.12"
  }
 },
 "nbformat": 4,
 "nbformat_minor": 5
}
