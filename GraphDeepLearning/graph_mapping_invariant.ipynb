{
 "cells": [
  {
   "cell_type": "code",
   "execution_count": 3,
   "id": "e35ca7e9",
   "metadata": {},
   "outputs": [],
   "source": [
    "import numpy as np\n",
    "import pennylane as qml\n",
    "import matplotlib.pyplot as plt"
   ]
  },
  {
   "cell_type": "code",
   "execution_count": 4,
   "id": "fe8b5d5d-d65e-4f91-b60c-5191c39d5a3b",
   "metadata": {},
   "outputs": [
    {
     "name": "stdout",
     "output_type": "stream",
     "text": [
      "[[0.36 0.52 0.27]\n",
      " [0.52 0.32 0.8 ]\n",
      " [0.27 0.8  0.92]]\n"
     ]
    }
   ],
   "source": [
    "rng = np.random.default_rng(4324234)\n",
    "\n",
    "def create_data_point(n):\n",
    "    \"\"\"\n",
    "    Returns a random undirected adjacency matrix of dimension (n,n).\n",
    "    The diagonal elements are interpreted as node attributes.\n",
    "    \"\"\"\n",
    "    mat = rng.random((n, n))\n",
    "    A = (mat + np.transpose(mat))/2\n",
    "    return np.round(A, decimals=2)\n",
    "\n",
    "A = create_data_point(3)\n",
    "print(A)"
   ]
  },
  {
   "cell_type": "code",
   "execution_count": 8,
   "id": "0abccd34",
   "metadata": {},
   "outputs": [],
   "source": [
    "def permute(A, permutation):\n",
    "\n",
    "    # creation of the permuteted operator version of the operator A\n",
    "    P = np.zeros((len(A), len(A)))\n",
    "    for i,j in enumerate(permutation):\n",
    "        P[i,j] = 1\n",
    "\n",
    "    return P @ A @ np.transpose(P)\n",
    "\n",
    "\n",
    "\n",
    "def perm_equivariant_embedding(A, betas, gammas):\n",
    "\n",
    "    # node == quantum_spin\n",
    "    # edge == link_weight_between_spins\n",
    "    n_nodes = len(A)\n",
    "    # num. of times that we repeat the quantum circuit\n",
    "    n_layers = len(betas)\n",
    "    \n",
    "    # initialise in the plus state for every i-spin\n",
    "    for i in range(n_nodes):\n",
    "        qml.Hadamard(i)\n",
    "\n",
    "    # repetition of the gates in the quantum circuit\n",
    "    for l in range(n_layers):\n",
    "\n",
    "        for i in range(n_nodes):\n",
    "            for j in range(i):\n",
    "                # factor of 2 due to definition of gate\n",
    "                # creation of permuteted quantum circuit between two spin i and j\n",
    "                qml.IsingZZ(2*gammas[l]*A[i,j], wires=[i,j]) \n",
    "\n",
    "        for i in range(n_nodes):\n",
    "            # x-rotational gates for the i-spin or i-node \n",
    "            qml.RX(A[i,i]*betas[l], wires=i)"
   ]
  },
  {
   "cell_type": "code",
   "execution_count": null,
   "id": "9173516e-11df-4d5d-9f7d-e3985c2e159a",
   "metadata": {},
   "outputs": [],
   "source": [
    "n_qubits = 5\n",
    "n_layers = 2\n",
    "\n",
    "# wires indicates the qspin used in the circuit initialized in 0\n",
    "# definition of the quantum device\n",
    "dev = qml.device(\"lightning.qubit\", wires=n_qubits)\n",
    "\n",
    "# initialization\n",
    "@qml.qnode(dev)\n",
    "\n",
    "# definition of the output function associated with the quantum circuit\n",
    "def eqc(adjacency_matrix, observable, trainable_betas, trainable_gammas):\n",
    "    \"\"\"Circuit that uses the permutation equivariant embedding\"\"\"\n",
    "    \n",
    "    perm_equivariant_embedding(adjacency_matrix, trainable_betas, trainable_gammas)\n",
    "    # computation of the expression value associated with the observable\n",
    "    return qml.expval(observable)\n",
    "\n",
    "# Experiment\n",
    "A = create_data_point(n_qubits)\n",
    "betas = rng.random(n_layers)\n",
    "gammas = rng.random(n_layers)\n",
    "\n",
    "# PauliX(n) == \\sigma^{(x)}_n\n",
    "# n indicates the number of the spin on which the observable is applied\n",
    "observable = qml.PauliX(0) @ qml.PauliX(1) @ qml.PauliX(3)\n",
    "\n",
    "# drawing the quantum circuit output associated with the experiment \n",
    "# with all the output troncated at the decimals\n",
    "qml.draw_mpl(eqc, decimals=2)(A, observable, betas, gammas)\n",
    "plt.show()"
   ]
  },
  {
   "cell_type": "code",
   "execution_count": 10,
   "id": "2f7f7603",
   "metadata": {},
   "outputs": [
    {
     "name": "stdout",
     "output_type": "stream",
     "text": [
      "Model output for A: 0.2472867456279559\n",
      "Model output for permutation of A:  0.3257521248127677\n",
      "Model output for permutation of A, and with permuted observable:  0.24728674562795633\n"
     ]
    }
   ],
   "source": [
    "# output value of the experiment\n",
    "result_A = eqc(A, observable, betas, gammas)\n",
    "print(\"Model output for A:\", result_A)\n",
    "\n",
    "# permutation of only the spins+weights (or nodes+edges) trought A_perm\n",
    "perm = [2, 3, 0, 1, 4]\n",
    "A_perm = permute(A, perm)\n",
    "\n",
    "# output value of non-permuteted observable\n",
    "result_Aperm = eqc(A_perm, observable, betas, gammas)\n",
    "print(\"Model output for permutation of A: \", result_Aperm)\n",
    "\n",
    "# output value with the permutation of the spins (nodes) on which\n",
    "# the observable is applied\n",
    "observable_perm = qml.PauliX(perm[0]) @ qml.PauliX(perm[1]) @ qml.PauliX(perm[3])\n",
    "\n",
    "result_Aperm = eqc(A_perm, observable_perm, betas, gammas)\n",
    "print(\"Model output for permutation of A, and with permuted observable: \", result_Aperm)"
   ]
  },
  {
   "cell_type": "code",
   "execution_count": null,
   "id": "3a03bb11-43de-48a3-8206-16c62b00a806",
   "metadata": {},
   "outputs": [],
   "source": []
  }
 ],
 "metadata": {
  "kernelspec": {
   "display_name": "Python 3 (ipykernel)",
   "language": "python",
   "name": "python3"
  },
  "language_info": {
   "codemirror_mode": {
    "name": "ipython",
    "version": 3
   },
   "file_extension": ".py",
   "mimetype": "text/x-python",
   "name": "python",
   "nbconvert_exporter": "python",
   "pygments_lexer": "ipython3",
   "version": "3.9.18"
  }
 },
 "nbformat": 4,
 "nbformat_minor": 5
}
